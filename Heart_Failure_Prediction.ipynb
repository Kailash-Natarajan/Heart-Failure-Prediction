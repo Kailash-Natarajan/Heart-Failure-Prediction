{
  "nbformat": 4,
  "nbformat_minor": 0,
  "metadata": {
    "colab": {
      "name": "Heart-Failure-Prediction.ipynb",
      "provenance": []
    },
    "kernelspec": {
      "name": "python3",
      "display_name": "Python 3"
    },
    "language_info": {
      "name": "python"
    }
  },
  "cells": [
    {
      "cell_type": "markdown",
      "source": [
        "# IMPORT LIBRARIES AND DATA\n",
        "\n",
        "---\n",
        "\n"
      ],
      "metadata": {
        "id": "tCAgKkf6wvfN"
      }
    },
    {
      "cell_type": "markdown",
      "source": [
        "> Dataset Source : https://www.kaggle.com/datasets/fedesoriano/heart-failure-prediction\n",
        "\n",
        "> Using only sklearn"
      ],
      "metadata": {
        "id": "ChDGTvhkS-uE"
      }
    },
    {
      "cell_type": "code",
      "execution_count": 1,
      "metadata": {
        "id": "QOSHJtOhmTRE"
      },
      "outputs": [],
      "source": [
        "import pandas as pd\n",
        "import numpy as np\n",
        "import matplotlib.pyplot as plt\n",
        "import seaborn as sns\n",
        "from sklearn.model_selection import train_test_split"
      ]
    },
    {
      "cell_type": "code",
      "source": [
        "#upload the heart.csv file beforehand\n",
        "heart=pd.read_csv('/content/heart.csv')"
      ],
      "metadata": {
        "id": "ib9hTSMcm-YF"
      },
      "execution_count": 2,
      "outputs": []
    },
    {
      "cell_type": "markdown",
      "source": [
        "# EXPLORATION - DATA UNDERSTANDING\n",
        "\n",
        "---\n",
        "\n"
      ],
      "metadata": {
        "id": "QVa8PsAxw53K"
      }
    },
    {
      "cell_type": "code",
      "source": [
        "heart"
      ],
      "metadata": {
        "colab": {
          "base_uri": "https://localhost:8080/",
          "height": 467
        },
        "id": "p4mFc8tXncg4",
        "outputId": "4eab3c49-db3d-4cea-d0be-6a4d547e69a6"
      },
      "execution_count": 3,
      "outputs": [
        {
          "output_type": "execute_result",
          "data": {
            "text/plain": [
              "     Age Sex ChestPainType  RestingBP  Cholesterol  FastingBS RestingECG  \\\n",
              "0     40   M           ATA        140          289          0     Normal   \n",
              "1     49   F           NAP        160          180          0     Normal   \n",
              "2     37   M           ATA        130          283          0         ST   \n",
              "3     48   F           ASY        138          214          0     Normal   \n",
              "4     54   M           NAP        150          195          0     Normal   \n",
              "..   ...  ..           ...        ...          ...        ...        ...   \n",
              "913   45   M            TA        110          264          0     Normal   \n",
              "914   68   M           ASY        144          193          1     Normal   \n",
              "915   57   M           ASY        130          131          0     Normal   \n",
              "916   57   F           ATA        130          236          0        LVH   \n",
              "917   38   M           NAP        138          175          0     Normal   \n",
              "\n",
              "     MaxHR ExerciseAngina  Oldpeak ST_Slope  HeartDisease  \n",
              "0      172              N      0.0       Up             0  \n",
              "1      156              N      1.0     Flat             1  \n",
              "2       98              N      0.0       Up             0  \n",
              "3      108              Y      1.5     Flat             1  \n",
              "4      122              N      0.0       Up             0  \n",
              "..     ...            ...      ...      ...           ...  \n",
              "913    132              N      1.2     Flat             1  \n",
              "914    141              N      3.4     Flat             1  \n",
              "915    115              Y      1.2     Flat             1  \n",
              "916    174              N      0.0     Flat             1  \n",
              "917    173              N      0.0       Up             0  \n",
              "\n",
              "[918 rows x 12 columns]"
            ],
            "text/html": [
              "\n",
              "  <div id=\"df-5e442421-0e99-4568-8992-1d3ce1241ebe\">\n",
              "    <div class=\"colab-df-container\">\n",
              "      <div>\n",
              "<style scoped>\n",
              "    .dataframe tbody tr th:only-of-type {\n",
              "        vertical-align: middle;\n",
              "    }\n",
              "\n",
              "    .dataframe tbody tr th {\n",
              "        vertical-align: top;\n",
              "    }\n",
              "\n",
              "    .dataframe thead th {\n",
              "        text-align: right;\n",
              "    }\n",
              "</style>\n",
              "<table border=\"1\" class=\"dataframe\">\n",
              "  <thead>\n",
              "    <tr style=\"text-align: right;\">\n",
              "      <th></th>\n",
              "      <th>Age</th>\n",
              "      <th>Sex</th>\n",
              "      <th>ChestPainType</th>\n",
              "      <th>RestingBP</th>\n",
              "      <th>Cholesterol</th>\n",
              "      <th>FastingBS</th>\n",
              "      <th>RestingECG</th>\n",
              "      <th>MaxHR</th>\n",
              "      <th>ExerciseAngina</th>\n",
              "      <th>Oldpeak</th>\n",
              "      <th>ST_Slope</th>\n",
              "      <th>HeartDisease</th>\n",
              "    </tr>\n",
              "  </thead>\n",
              "  <tbody>\n",
              "    <tr>\n",
              "      <th>0</th>\n",
              "      <td>40</td>\n",
              "      <td>M</td>\n",
              "      <td>ATA</td>\n",
              "      <td>140</td>\n",
              "      <td>289</td>\n",
              "      <td>0</td>\n",
              "      <td>Normal</td>\n",
              "      <td>172</td>\n",
              "      <td>N</td>\n",
              "      <td>0.0</td>\n",
              "      <td>Up</td>\n",
              "      <td>0</td>\n",
              "    </tr>\n",
              "    <tr>\n",
              "      <th>1</th>\n",
              "      <td>49</td>\n",
              "      <td>F</td>\n",
              "      <td>NAP</td>\n",
              "      <td>160</td>\n",
              "      <td>180</td>\n",
              "      <td>0</td>\n",
              "      <td>Normal</td>\n",
              "      <td>156</td>\n",
              "      <td>N</td>\n",
              "      <td>1.0</td>\n",
              "      <td>Flat</td>\n",
              "      <td>1</td>\n",
              "    </tr>\n",
              "    <tr>\n",
              "      <th>2</th>\n",
              "      <td>37</td>\n",
              "      <td>M</td>\n",
              "      <td>ATA</td>\n",
              "      <td>130</td>\n",
              "      <td>283</td>\n",
              "      <td>0</td>\n",
              "      <td>ST</td>\n",
              "      <td>98</td>\n",
              "      <td>N</td>\n",
              "      <td>0.0</td>\n",
              "      <td>Up</td>\n",
              "      <td>0</td>\n",
              "    </tr>\n",
              "    <tr>\n",
              "      <th>3</th>\n",
              "      <td>48</td>\n",
              "      <td>F</td>\n",
              "      <td>ASY</td>\n",
              "      <td>138</td>\n",
              "      <td>214</td>\n",
              "      <td>0</td>\n",
              "      <td>Normal</td>\n",
              "      <td>108</td>\n",
              "      <td>Y</td>\n",
              "      <td>1.5</td>\n",
              "      <td>Flat</td>\n",
              "      <td>1</td>\n",
              "    </tr>\n",
              "    <tr>\n",
              "      <th>4</th>\n",
              "      <td>54</td>\n",
              "      <td>M</td>\n",
              "      <td>NAP</td>\n",
              "      <td>150</td>\n",
              "      <td>195</td>\n",
              "      <td>0</td>\n",
              "      <td>Normal</td>\n",
              "      <td>122</td>\n",
              "      <td>N</td>\n",
              "      <td>0.0</td>\n",
              "      <td>Up</td>\n",
              "      <td>0</td>\n",
              "    </tr>\n",
              "    <tr>\n",
              "      <th>...</th>\n",
              "      <td>...</td>\n",
              "      <td>...</td>\n",
              "      <td>...</td>\n",
              "      <td>...</td>\n",
              "      <td>...</td>\n",
              "      <td>...</td>\n",
              "      <td>...</td>\n",
              "      <td>...</td>\n",
              "      <td>...</td>\n",
              "      <td>...</td>\n",
              "      <td>...</td>\n",
              "      <td>...</td>\n",
              "    </tr>\n",
              "    <tr>\n",
              "      <th>913</th>\n",
              "      <td>45</td>\n",
              "      <td>M</td>\n",
              "      <td>TA</td>\n",
              "      <td>110</td>\n",
              "      <td>264</td>\n",
              "      <td>0</td>\n",
              "      <td>Normal</td>\n",
              "      <td>132</td>\n",
              "      <td>N</td>\n",
              "      <td>1.2</td>\n",
              "      <td>Flat</td>\n",
              "      <td>1</td>\n",
              "    </tr>\n",
              "    <tr>\n",
              "      <th>914</th>\n",
              "      <td>68</td>\n",
              "      <td>M</td>\n",
              "      <td>ASY</td>\n",
              "      <td>144</td>\n",
              "      <td>193</td>\n",
              "      <td>1</td>\n",
              "      <td>Normal</td>\n",
              "      <td>141</td>\n",
              "      <td>N</td>\n",
              "      <td>3.4</td>\n",
              "      <td>Flat</td>\n",
              "      <td>1</td>\n",
              "    </tr>\n",
              "    <tr>\n",
              "      <th>915</th>\n",
              "      <td>57</td>\n",
              "      <td>M</td>\n",
              "      <td>ASY</td>\n",
              "      <td>130</td>\n",
              "      <td>131</td>\n",
              "      <td>0</td>\n",
              "      <td>Normal</td>\n",
              "      <td>115</td>\n",
              "      <td>Y</td>\n",
              "      <td>1.2</td>\n",
              "      <td>Flat</td>\n",
              "      <td>1</td>\n",
              "    </tr>\n",
              "    <tr>\n",
              "      <th>916</th>\n",
              "      <td>57</td>\n",
              "      <td>F</td>\n",
              "      <td>ATA</td>\n",
              "      <td>130</td>\n",
              "      <td>236</td>\n",
              "      <td>0</td>\n",
              "      <td>LVH</td>\n",
              "      <td>174</td>\n",
              "      <td>N</td>\n",
              "      <td>0.0</td>\n",
              "      <td>Flat</td>\n",
              "      <td>1</td>\n",
              "    </tr>\n",
              "    <tr>\n",
              "      <th>917</th>\n",
              "      <td>38</td>\n",
              "      <td>M</td>\n",
              "      <td>NAP</td>\n",
              "      <td>138</td>\n",
              "      <td>175</td>\n",
              "      <td>0</td>\n",
              "      <td>Normal</td>\n",
              "      <td>173</td>\n",
              "      <td>N</td>\n",
              "      <td>0.0</td>\n",
              "      <td>Up</td>\n",
              "      <td>0</td>\n",
              "    </tr>\n",
              "  </tbody>\n",
              "</table>\n",
              "<p>918 rows × 12 columns</p>\n",
              "</div>\n",
              "      <button class=\"colab-df-convert\" onclick=\"convertToInteractive('df-5e442421-0e99-4568-8992-1d3ce1241ebe')\"\n",
              "              title=\"Convert this dataframe to an interactive table.\"\n",
              "              style=\"display:none;\">\n",
              "        \n",
              "  <svg xmlns=\"http://www.w3.org/2000/svg\" height=\"24px\"viewBox=\"0 0 24 24\"\n",
              "       width=\"24px\">\n",
              "    <path d=\"M0 0h24v24H0V0z\" fill=\"none\"/>\n",
              "    <path d=\"M18.56 5.44l.94 2.06.94-2.06 2.06-.94-2.06-.94-.94-2.06-.94 2.06-2.06.94zm-11 1L8.5 8.5l.94-2.06 2.06-.94-2.06-.94L8.5 2.5l-.94 2.06-2.06.94zm10 10l.94 2.06.94-2.06 2.06-.94-2.06-.94-.94-2.06-.94 2.06-2.06.94z\"/><path d=\"M17.41 7.96l-1.37-1.37c-.4-.4-.92-.59-1.43-.59-.52 0-1.04.2-1.43.59L10.3 9.45l-7.72 7.72c-.78.78-.78 2.05 0 2.83L4 21.41c.39.39.9.59 1.41.59.51 0 1.02-.2 1.41-.59l7.78-7.78 2.81-2.81c.8-.78.8-2.07 0-2.86zM5.41 20L4 18.59l7.72-7.72 1.47 1.35L5.41 20z\"/>\n",
              "  </svg>\n",
              "      </button>\n",
              "      \n",
              "  <style>\n",
              "    .colab-df-container {\n",
              "      display:flex;\n",
              "      flex-wrap:wrap;\n",
              "      gap: 12px;\n",
              "    }\n",
              "\n",
              "    .colab-df-convert {\n",
              "      background-color: #E8F0FE;\n",
              "      border: none;\n",
              "      border-radius: 50%;\n",
              "      cursor: pointer;\n",
              "      display: none;\n",
              "      fill: #1967D2;\n",
              "      height: 32px;\n",
              "      padding: 0 0 0 0;\n",
              "      width: 32px;\n",
              "    }\n",
              "\n",
              "    .colab-df-convert:hover {\n",
              "      background-color: #E2EBFA;\n",
              "      box-shadow: 0px 1px 2px rgba(60, 64, 67, 0.3), 0px 1px 3px 1px rgba(60, 64, 67, 0.15);\n",
              "      fill: #174EA6;\n",
              "    }\n",
              "\n",
              "    [theme=dark] .colab-df-convert {\n",
              "      background-color: #3B4455;\n",
              "      fill: #D2E3FC;\n",
              "    }\n",
              "\n",
              "    [theme=dark] .colab-df-convert:hover {\n",
              "      background-color: #434B5C;\n",
              "      box-shadow: 0px 1px 3px 1px rgba(0, 0, 0, 0.15);\n",
              "      filter: drop-shadow(0px 1px 2px rgba(0, 0, 0, 0.3));\n",
              "      fill: #FFFFFF;\n",
              "    }\n",
              "  </style>\n",
              "\n",
              "      <script>\n",
              "        const buttonEl =\n",
              "          document.querySelector('#df-5e442421-0e99-4568-8992-1d3ce1241ebe button.colab-df-convert');\n",
              "        buttonEl.style.display =\n",
              "          google.colab.kernel.accessAllowed ? 'block' : 'none';\n",
              "\n",
              "        async function convertToInteractive(key) {\n",
              "          const element = document.querySelector('#df-5e442421-0e99-4568-8992-1d3ce1241ebe');\n",
              "          const dataTable =\n",
              "            await google.colab.kernel.invokeFunction('convertToInteractive',\n",
              "                                                     [key], {});\n",
              "          if (!dataTable) return;\n",
              "\n",
              "          const docLinkHtml = 'Like what you see? Visit the ' +\n",
              "            '<a target=\"_blank\" href=https://colab.research.google.com/notebooks/data_table.ipynb>data table notebook</a>'\n",
              "            + ' to learn more about interactive tables.';\n",
              "          element.innerHTML = '';\n",
              "          dataTable['output_type'] = 'display_data';\n",
              "          await google.colab.output.renderOutput(dataTable, element);\n",
              "          const docLink = document.createElement('div');\n",
              "          docLink.innerHTML = docLinkHtml;\n",
              "          element.appendChild(docLink);\n",
              "        }\n",
              "      </script>\n",
              "    </div>\n",
              "  </div>\n",
              "  "
            ]
          },
          "metadata": {},
          "execution_count": 3
        }
      ]
    },
    {
      "cell_type": "code",
      "source": [
        "print(len(heart['RestingBP'].unique()))\n",
        "print(len(heart['Cholesterol'].unique()))\n",
        "print(len(heart['MaxHR'].unique()))"
      ],
      "metadata": {
        "colab": {
          "base_uri": "https://localhost:8080/"
        },
        "id": "9q3L870hy1Op",
        "outputId": "389bd538-82a0-4651-974d-25601d4a3e19"
      },
      "execution_count": 4,
      "outputs": [
        {
          "output_type": "stream",
          "name": "stdout",
          "text": [
            "67\n",
            "222\n",
            "119\n"
          ]
        }
      ]
    },
    {
      "cell_type": "markdown",
      "source": [
        "# CLEANING AND PREPROCESSING\n",
        "\n",
        "---\n",
        "\n"
      ],
      "metadata": {
        "id": "umLuoMnSxAno"
      }
    },
    {
      "cell_type": "markdown",
      "source": [
        "> Encoding Categorical Attributes\n",
        "\n"
      ],
      "metadata": {
        "id": "2LNp75j_QfSI"
      }
    },
    {
      "cell_type": "code",
      "source": [
        "from sklearn import preprocessing\n",
        "LE=preprocessing.LabelEncoder()\n",
        "heart['Sex']=LE.fit_transform(heart['Sex'])\n",
        "heart['ChestPainType']=LE.fit_transform(heart['ChestPainType'])\n",
        "heart['RestingECG']=LE.fit_transform(heart['RestingECG'])\n",
        "heart['ExerciseAngina']=LE.fit_transform(heart['ExerciseAngina'])\n",
        "heart['ST_Slope']=LE.fit_transform(heart['ST_Slope'])"
      ],
      "metadata": {
        "id": "YLMNailwyOA0"
      },
      "execution_count": 5,
      "outputs": []
    },
    {
      "cell_type": "markdown",
      "source": [
        "> Feature Selection"
      ],
      "metadata": {
        "id": "m_oYSq1vR4rf"
      }
    },
    {
      "cell_type": "code",
      "source": [
        "heart_x=heart.drop(['HeartDisease'],axis=1) # input features\n",
        "heart_y=heart['HeartDisease'] # output features"
      ],
      "metadata": {
        "id": "_AP9cLqvqQ0L"
      },
      "execution_count": 6,
      "outputs": []
    },
    {
      "cell_type": "markdown",
      "source": [
        "> Split Train and Test"
      ],
      "metadata": {
        "id": "O6fCUOblSYBz"
      }
    },
    {
      "cell_type": "code",
      "source": [
        "#train-test split\n",
        "from sklearn.model_selection import train_test_split\n",
        "x_train,x_test,y_train,y_test=train_test_split(heart_x,heart_y,test_size=0.3,random_state=5)"
      ],
      "metadata": {
        "id": "46-wf8Rl5V3r"
      },
      "execution_count": 7,
      "outputs": []
    },
    {
      "cell_type": "markdown",
      "source": [
        "# LOGISTIC REGRESSION\n",
        "\n",
        "---\n",
        "\n"
      ],
      "metadata": {
        "id": "CZiuLMHo8IXw"
      }
    },
    {
      "cell_type": "markdown",
      "source": [
        "> Fitting Model"
      ],
      "metadata": {
        "id": "PtHyRVi9X5lK"
      }
    },
    {
      "cell_type": "code",
      "source": [
        "from sklearn import linear_model\n",
        "log_reg=linear_model.LogisticRegression(random_state=5,max_iter=700)\n",
        "log_reg.fit(x_train,y_train)"
      ],
      "metadata": {
        "colab": {
          "base_uri": "https://localhost:8080/"
        },
        "id": "HfT-uYhaxQrB",
        "outputId": "637290b6-7edd-48e9-a3cd-d04a014c593a"
      },
      "execution_count": 8,
      "outputs": [
        {
          "output_type": "execute_result",
          "data": {
            "text/plain": [
              "LogisticRegression(max_iter=700, random_state=5)"
            ]
          },
          "metadata": {},
          "execution_count": 8
        }
      ]
    },
    {
      "cell_type": "markdown",
      "source": [
        "> Confusion Matrix and Evaluation"
      ],
      "metadata": {
        "id": "v_SoDQFvX7UY"
      }
    },
    {
      "cell_type": "code",
      "source": [
        "from sklearn.metrics import confusion_matrix\n",
        "predictions=log_reg.predict(x_test)\n",
        "cm = confusion_matrix(y_test,predictions )\n",
        "\n",
        "TN, FP, FN, TP = confusion_matrix(y_test, predictions).ravel()\n",
        "\n",
        "print('True Positive(TP)  = ', TP)\n",
        "print('False Positive(FP) = ', FP)\n",
        "print('True Negative(TN)  = ', TN)\n",
        "print('False Negative(FN) = ', FN)\n",
        "\n",
        "accuracy =  (TP+TN) /(TP+FP+TN+FN)\n",
        "\n",
        "print('Accuracy of the binary classification = {:0.3f}'.format(accuracy))"
      ],
      "metadata": {
        "colab": {
          "base_uri": "https://localhost:8080/"
        },
        "id": "7WAFuYfZX4aQ",
        "outputId": "a6a43da9-bc02-4cf6-ea0a-18b0b5ae1614"
      },
      "execution_count": 9,
      "outputs": [
        {
          "output_type": "stream",
          "name": "stdout",
          "text": [
            "True Positive(TP)  =  143\n",
            "False Positive(FP) =  18\n",
            "True Negative(TN)  =  101\n",
            "False Negative(FN) =  14\n",
            "Accuracy of the binary classification = 0.884\n"
          ]
        }
      ]
    },
    {
      "cell_type": "markdown",
      "source": [
        "# KNN\n",
        "\n",
        "---\n",
        "\n"
      ],
      "metadata": {
        "id": "kWR2-c8AbxLE"
      }
    },
    {
      "cell_type": "markdown",
      "source": [
        "> Fitting Model"
      ],
      "metadata": {
        "id": "F4oucZHmbiIa"
      }
    },
    {
      "cell_type": "code",
      "source": [
        "from sklearn import neighbors\n",
        "knn=neighbors.KNeighborsClassifier()\n",
        "knn.fit(x_train,y_train)"
      ],
      "metadata": {
        "colab": {
          "base_uri": "https://localhost:8080/"
        },
        "id": "7N7yDRZXTqpH",
        "outputId": "ad5fbec5-27ef-404a-947e-184bfd3d189a"
      },
      "execution_count": 10,
      "outputs": [
        {
          "output_type": "execute_result",
          "data": {
            "text/plain": [
              "KNeighborsClassifier()"
            ]
          },
          "metadata": {},
          "execution_count": 10
        }
      ]
    },
    {
      "cell_type": "markdown",
      "source": [
        "> Confusion Matrix"
      ],
      "metadata": {
        "id": "v7vA4i04bjcp"
      }
    },
    {
      "cell_type": "code",
      "source": [
        "from sklearn.metrics import confusion_matrix\n",
        "predictions=knn.predict(x_test)\n",
        "cm = confusion_matrix(y_test,predictions )\n",
        "\n",
        "TN, FP, FN, TP = confusion_matrix(y_test, predictions).ravel()\n",
        "\n",
        "print('True Positive(TP)  = ', TP)\n",
        "print('False Positive(FP) = ', FP)\n",
        "print('True Negative(TN)  = ', TN)\n",
        "print('False Negative(FN) = ', FN)\n",
        "\n",
        "accuracy =  (TP+TN) /(TP+FP+TN+FN)\n",
        "\n",
        "print('Accuracy of the binary classification = {:0.3f}'.format(accuracy))"
      ],
      "metadata": {
        "colab": {
          "base_uri": "https://localhost:8080/"
        },
        "id": "Zwb6VvlGbsEE",
        "outputId": "64652a6e-a6e7-4136-c54e-24a11043b694"
      },
      "execution_count": 11,
      "outputs": [
        {
          "output_type": "stream",
          "name": "stdout",
          "text": [
            "True Positive(TP)  =  112\n",
            "False Positive(FP) =  40\n",
            "True Negative(TN)  =  79\n",
            "False Negative(FN) =  45\n",
            "Accuracy of the binary classification = 0.692\n"
          ]
        }
      ]
    },
    {
      "cell_type": "markdown",
      "source": [
        "# SVM\n",
        "\n",
        "---\n",
        "\n"
      ],
      "metadata": {
        "id": "vl4VJdSyTlsl"
      }
    },
    {
      "cell_type": "markdown",
      "source": [
        "> Fitting Model"
      ],
      "metadata": {
        "id": "MFvT9O9ehH5J"
      }
    },
    {
      "cell_type": "code",
      "source": [
        "from sklearn import svm\n",
        "SVM=svm.SVC(random_state=5)\n",
        "SVM.fit(x_train,y_train)"
      ],
      "metadata": {
        "id": "yHUWZfp-TrMs",
        "colab": {
          "base_uri": "https://localhost:8080/"
        },
        "outputId": "1186cc92-376b-40e4-9e61-11f7f28ec870"
      },
      "execution_count": 12,
      "outputs": [
        {
          "output_type": "execute_result",
          "data": {
            "text/plain": [
              "SVC(random_state=5)"
            ]
          },
          "metadata": {},
          "execution_count": 12
        }
      ]
    },
    {
      "cell_type": "markdown",
      "source": [
        " > Confusion Matrix"
      ],
      "metadata": {
        "id": "eNTEyPL4hJQp"
      }
    },
    {
      "cell_type": "code",
      "source": [
        "from sklearn.metrics import confusion_matrix\n",
        "predictions=SVM.predict(x_test)\n",
        "cm = confusion_matrix(y_test,predictions )\n",
        "\n",
        "TN, FP, FN, TP = confusion_matrix(y_test, predictions).ravel()\n",
        "\n",
        "print('True Positive(TP)  = ', TP)\n",
        "print('False Positive(FP) = ', FP)\n",
        "print('True Negative(TN)  = ', TN)\n",
        "print('False Negative(FN) = ', FN)\n",
        "\n",
        "accuracy =  (TP+TN) /(TP+FP+TN+FN)\n",
        "\n",
        "print('Accuracy of the binary classification = {:0.3f}'.format(accuracy))"
      ],
      "metadata": {
        "colab": {
          "base_uri": "https://localhost:8080/"
        },
        "id": "ZXDjJRhshN18",
        "outputId": "4ec2ed68-462f-4803-b19d-12d3e8b406a8"
      },
      "execution_count": 13,
      "outputs": [
        {
          "output_type": "stream",
          "name": "stdout",
          "text": [
            "True Positive(TP)  =  115\n",
            "False Positive(FP) =  34\n",
            "True Negative(TN)  =  85\n",
            "False Negative(FN) =  42\n",
            "Accuracy of the binary classification = 0.725\n"
          ]
        }
      ]
    },
    {
      "cell_type": "markdown",
      "source": [
        "# Decision Tree\n",
        "\n",
        "---\n",
        "\n"
      ],
      "metadata": {
        "id": "oe0WPh7-UL8O"
      }
    },
    {
      "cell_type": "markdown",
      "source": [
        "> Fitting Model"
      ],
      "metadata": {
        "id": "gxodlRKfikId"
      }
    },
    {
      "cell_type": "code",
      "source": [
        "from sklearn import tree\n",
        "DT=tree.DecisionTreeClassifier(random_state=5)\n",
        "DT.fit(x_train,y_train)"
      ],
      "metadata": {
        "id": "kmuWIAh1URHZ",
        "colab": {
          "base_uri": "https://localhost:8080/"
        },
        "outputId": "557a02d2-7190-41a5-b066-fcbc04cfd433"
      },
      "execution_count": 14,
      "outputs": [
        {
          "output_type": "execute_result",
          "data": {
            "text/plain": [
              "DecisionTreeClassifier(random_state=5)"
            ]
          },
          "metadata": {},
          "execution_count": 14
        }
      ]
    },
    {
      "cell_type": "markdown",
      "source": [
        "> Confusion Matrix"
      ],
      "metadata": {
        "id": "oSBJ1TttjAZF"
      }
    },
    {
      "cell_type": "code",
      "source": [
        "from sklearn.metrics import confusion_matrix\n",
        "predictions=DT.predict(x_test)\n",
        "cm = confusion_matrix(y_test,predictions )\n",
        "\n",
        "TN, FP, FN, TP = confusion_matrix(y_test, predictions).ravel()\n",
        "\n",
        "print('True Positive(TP)  = ', TP)\n",
        "print('False Positive(FP) = ', FP)\n",
        "print('True Negative(TN)  = ', TN)\n",
        "print('False Negative(FN) = ', FN)\n",
        "\n",
        "accuracy =  (TP+TN) /(TP+FP+TN+FN)\n",
        "\n",
        "print('Accuracy of the binary classification = {:0.3f}'.format(accuracy))"
      ],
      "metadata": {
        "colab": {
          "base_uri": "https://localhost:8080/"
        },
        "id": "LoZVxQq1i4jp",
        "outputId": "bfe0e279-48d6-45e8-ee2f-44391c06403b"
      },
      "execution_count": 15,
      "outputs": [
        {
          "output_type": "stream",
          "name": "stdout",
          "text": [
            "True Positive(TP)  =  120\n",
            "False Positive(FP) =  27\n",
            "True Negative(TN)  =  92\n",
            "False Negative(FN) =  37\n",
            "Accuracy of the binary classification = 0.768\n"
          ]
        }
      ]
    },
    {
      "cell_type": "markdown",
      "source": [
        "# Naive Bayes\n",
        "\n",
        "---\n",
        "\n"
      ],
      "metadata": {
        "id": "OK-jcl0kUOC5"
      }
    },
    {
      "cell_type": "markdown",
      "source": [
        "> Fitting Model"
      ],
      "metadata": {
        "id": "kp-wNn76jhJK"
      }
    },
    {
      "cell_type": "code",
      "source": [
        "from sklearn.naive_bayes import GaussianNB\n",
        "gnb=GaussianNB()\n",
        "gnb.fit(x_train,y_train)"
      ],
      "metadata": {
        "id": "aKE3XbuVUSE6",
        "colab": {
          "base_uri": "https://localhost:8080/"
        },
        "outputId": "0dbf19ed-d29f-4023-a3c9-1c4713351726"
      },
      "execution_count": 16,
      "outputs": [
        {
          "output_type": "execute_result",
          "data": {
            "text/plain": [
              "GaussianNB()"
            ]
          },
          "metadata": {},
          "execution_count": 16
        }
      ]
    },
    {
      "cell_type": "markdown",
      "source": [
        "> Confusion Matrix"
      ],
      "metadata": {
        "id": "FGkeL9PfjuWJ"
      }
    },
    {
      "cell_type": "code",
      "source": [
        "from sklearn.metrics import confusion_matrix\n",
        "predictions=gnb.predict(x_test)\n",
        "cm = confusion_matrix(y_test,predictions )\n",
        "\n",
        "TN, FP, FN, TP = confusion_matrix(y_test, predictions).ravel()\n",
        "\n",
        "print('True Positive(TP)  = ', TP)\n",
        "print('False Positive(FP) = ', FP)\n",
        "print('True Negative(TN)  = ', TN)\n",
        "print('False Negative(FN) = ', FN)\n",
        "\n",
        "accuracy =  (TP+TN) /(TP+FP+TN+FN)\n",
        "\n",
        "print('Accuracy of the binary classification = {:0.3f}'.format(accuracy))"
      ],
      "metadata": {
        "colab": {
          "base_uri": "https://localhost:8080/"
        },
        "id": "mnqR0Onvjv-x",
        "outputId": "1f0416a7-4f12-4bb4-a146-06df045cb375"
      },
      "execution_count": 17,
      "outputs": [
        {
          "output_type": "stream",
          "name": "stdout",
          "text": [
            "True Positive(TP)  =  143\n",
            "False Positive(FP) =  16\n",
            "True Negative(TN)  =  103\n",
            "False Negative(FN) =  14\n",
            "Accuracy of the binary classification = 0.891\n"
          ]
        }
      ]
    }
  ]
}